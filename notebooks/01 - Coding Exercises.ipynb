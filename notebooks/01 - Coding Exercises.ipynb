{
 "cells": [
  {
   "cell_type": "markdown",
   "metadata": {},
   "source": [
    "### Coding Exercises"
   ]
  },
  {
   "cell_type": "markdown",
   "metadata": {},
   "source": [
    "Consider the following classes:"
   ]
  },
  {
   "cell_type": "code",
   "execution_count": 1,
   "metadata": {},
   "outputs": [],
   "source": [
    "class Stock:\n",
    "    def __init__(self, symbol, date, open_, high, low, close, volume):\n",
    "        self.symbol = symbol\n",
    "        self.date = date\n",
    "        self.open = open_\n",
    "        self.high = high\n",
    "        self.low = low\n",
    "        self.close = close\n",
    "        self.volume = volume\n",
    "        \n",
    "class Trade:\n",
    "    def __init__(self, symbol, timestamp, order, price, volume, commission):\n",
    "        self.symbol = symbol\n",
    "        self.timestamp = timestamp\n",
    "        self.order = order\n",
    "        self.price = price\n",
    "        self.commission = commission\n",
    "        self.volume = volume"
   ]
  },
  {
   "cell_type": "markdown",
   "metadata": {},
   "source": [
    "#### Exercise 1"
   ]
  },
  {
   "cell_type": "markdown",
   "metadata": {},
   "source": [
    "Given the above class, write a custom `JSONEncoder` class to **serialize** dictionaries that contain instances of these particular classes. Keep in mind that you will want to deserialize the data too - so you will need some technique to indicate the object type in your serialization."
   ]
  },
  {
   "cell_type": "markdown",
   "metadata": {},
   "source": [
    "For example you may have an object such as this one that needs to be serialized:"
   ]
  },
  {
   "cell_type": "code",
   "execution_count": 2,
   "metadata": {},
   "outputs": [],
   "source": [
    "from datetime import date, datetime\n",
    "from decimal import Decimal\n",
    "\n",
    "activity = {\n",
    "    \"quotes\": [\n",
    "        Stock('TSLA', date(2018, 11, 22), \n",
    "              Decimal('338.19'), Decimal('338.64'), Decimal('337.60'), Decimal('338.19'), 365_607),\n",
    "        Stock('AAPL', date(2018, 11, 22), \n",
    "              Decimal('176.66'), Decimal('177.25'), Decimal('176.64'), Decimal('176.78'), 3_699_184),\n",
    "        Stock('MSFT', date(2018, 11, 22), \n",
    "              Decimal('103.25'), Decimal('103.48'), Decimal('103.07'), Decimal('103.11'), 4_493_689)\n",
    "    ],\n",
    "    \n",
    "    \"trades\": [\n",
    "        Trade('TSLA', datetime(2018, 11, 22, 10, 5, 12), 'buy', Decimal('338.25'), 100, Decimal('9.99')),\n",
    "        Trade('AAPL', datetime(2018, 11, 22, 10, 30, 5), 'sell', Decimal('177.01'), 20, Decimal('9.99'))\n",
    "    ]\n",
    "}"
   ]
  },
  {
   "cell_type": "markdown",
   "metadata": {},
   "source": [
    "Hint: You can modify the classes if you need to."
   ]
  },
  {
   "cell_type": "code",
   "execution_count": 3,
   "metadata": {},
   "outputs": [],
   "source": [
    "import json"
   ]
  },
  {
   "cell_type": "code",
   "execution_count": 4,
   "metadata": {},
   "outputs": [],
   "source": [
    "class CustomEncoder(json.JSONEncoder):\n",
    "    def default(self, obj):\n",
    "        if isinstance(obj, Stock):\n",
    "            return {'_type': 'Stock', **vars(obj)}\n",
    "        if isinstance(obj, Trade):\n",
    "            return {'_type': 'Trade', **vars(obj)}\n",
    "        if isinstance(obj, date):\n",
    "            return obj.isoformat()\n",
    "        if isinstance(obj, datetime):\n",
    "            return obj.isoformat()\n",
    "        if isinstance(obj, Decimal):\n",
    "            return obj.to_eng_string()\n",
    "        return super().default(obj)"
   ]
  },
  {
   "cell_type": "code",
   "execution_count": 5,
   "metadata": {},
   "outputs": [
    {
     "name": "stdout",
     "output_type": "stream",
     "text": [
      "{\n",
      "  \"quotes\": [\n",
      "    {\n",
      "      \"_type\": \"Stock\",\n",
      "      \"symbol\": \"TSLA\",\n",
      "      \"date\": \"2018-11-22\",\n",
      "      \"open\": \"338.19\",\n",
      "      \"high\": \"338.64\",\n",
      "      \"low\": \"337.60\",\n",
      "      \"close\": \"338.19\",\n",
      "      \"volume\": 365607\n",
      "    },\n",
      "    {\n",
      "      \"_type\": \"Stock\",\n",
      "      \"symbol\": \"AAPL\",\n",
      "      \"date\": \"2018-11-22\",\n",
      "      \"open\": \"176.66\",\n",
      "      \"high\": \"177.25\",\n",
      "      \"low\": \"176.64\",\n",
      "      \"close\": \"176.78\",\n",
      "      \"volume\": 3699184\n",
      "    },\n",
      "    {\n",
      "      \"_type\": \"Stock\",\n",
      "      \"symbol\": \"MSFT\",\n",
      "      \"date\": \"2018-11-22\",\n",
      "      \"open\": \"103.25\",\n",
      "      \"high\": \"103.48\",\n",
      "      \"low\": \"103.07\",\n",
      "      \"close\": \"103.11\",\n",
      "      \"volume\": 4493689\n",
      "    }\n",
      "  ],\n",
      "  \"trades\": [\n",
      "    {\n",
      "      \"_type\": \"Trade\",\n",
      "      \"symbol\": \"TSLA\",\n",
      "      \"timestamp\": \"2018-11-22T10:05:12\",\n",
      "      \"order\": \"buy\",\n",
      "      \"price\": \"338.25\",\n",
      "      \"commission\": \"9.99\",\n",
      "      \"volume\": 100\n",
      "    },\n",
      "    {\n",
      "      \"_type\": \"Trade\",\n",
      "      \"symbol\": \"AAPL\",\n",
      "      \"timestamp\": \"2018-11-22T10:30:05\",\n",
      "      \"order\": \"sell\",\n",
      "      \"price\": \"177.01\",\n",
      "      \"commission\": \"9.99\",\n",
      "      \"volume\": 20\n",
      "    }\n",
      "  ]\n",
      "}\n"
     ]
    }
   ],
   "source": [
    "encoded = json.dumps(activity, cls=CustomEncoder, indent=2)\n",
    "print(encoded)"
   ]
  },
  {
   "cell_type": "markdown",
   "metadata": {},
   "source": [
    "#### Exercise 2"
   ]
  },
  {
   "cell_type": "markdown",
   "metadata": {},
   "source": [
    "Write code to reverse the serialization you just created. Write a custom decoder that can deserialize a JSON structure containing `Stock` and `Trade` objects. "
   ]
  },
  {
   "cell_type": "code",
   "execution_count": 6,
   "metadata": {},
   "outputs": [],
   "source": [
    "class CustomDecoder(json.JSONDecoder):\n",
    "    \n",
    "    def decode(self, arg):\n",
    "        obj = json.loads(arg)\n",
    "        return self.parse_obj(obj)\n",
    "        \n",
    "    def parse_obj(self, obj):\n",
    "        if isinstance(obj, dict):\n",
    "            if '_type' in obj:\n",
    "                if obj['_type'] == 'Stock':\n",
    "                    return Stock(obj['symbol'], \n",
    "                                 datetime.fromisoformat(obj['date']).date(), \n",
    "                                 Decimal(obj['open']), \n",
    "                                 Decimal(obj['high']), \n",
    "                                 Decimal(obj['low']), \n",
    "                                 Decimal(obj['close']), \n",
    "                                 obj['volume'])\n",
    "                if obj['_type'] == 'Trade':\n",
    "                    return Trade(obj['symbol'], \n",
    "                                 datetime.fromisoformat(obj['timestamp']), \n",
    "                                 obj['order'], \n",
    "                                 Decimal(obj['price']), \n",
    "                                 obj['volume'],\n",
    "                                 Decimal(obj['commission']))\n",
    "            for k, v in obj.items():\n",
    "                obj[k] = self.parse_obj(v)\n",
    "        \n",
    "        elif isinstance(obj, list):\n",
    "            obj = [*map(self.parse_obj, obj)]\n",
    "        \n",
    "        return obj"
   ]
  },
  {
   "cell_type": "code",
   "execution_count": 7,
   "metadata": {},
   "outputs": [
    {
     "data": {
      "text/plain": [
       "{'quotes': [<__main__.Stock at 0x7ff2c85fc760>,\n",
       "  <__main__.Stock at 0x7ff2c85fc7f0>,\n",
       "  <__main__.Stock at 0x7ff2c85fc430>],\n",
       " 'trades': [<__main__.Trade at 0x7ff2c85fcfa0>,\n",
       "  <__main__.Trade at 0x7ff2c85fcf70>]}"
      ]
     },
     "execution_count": 7,
     "metadata": {},
     "output_type": "execute_result"
    }
   ],
   "source": [
    "decoded = json.loads(encoded, cls=CustomDecoder)\n",
    "decoded"
   ]
  },
  {
   "cell_type": "code",
   "execution_count": 8,
   "metadata": {},
   "outputs": [
    {
     "name": "stdout",
     "output_type": "stream",
     "text": [
      "quotes\n",
      "{'symbol': 'TSLA', 'date': datetime.date(2018, 11, 22), 'open': Decimal('338.19'), 'high': Decimal('338.64'), 'low': Decimal('337.60'), 'close': Decimal('338.19'), 'volume': 365607}\n",
      "{'symbol': 'AAPL', 'date': datetime.date(2018, 11, 22), 'open': Decimal('176.66'), 'high': Decimal('177.25'), 'low': Decimal('176.64'), 'close': Decimal('176.78'), 'volume': 3699184}\n",
      "{'symbol': 'MSFT', 'date': datetime.date(2018, 11, 22), 'open': Decimal('103.25'), 'high': Decimal('103.48'), 'low': Decimal('103.07'), 'close': Decimal('103.11'), 'volume': 4493689}\n",
      "trades\n",
      "{'symbol': 'TSLA', 'timestamp': datetime.datetime(2018, 11, 22, 10, 5, 12), 'order': 'buy', 'price': Decimal('338.25'), 'commission': Decimal('9.99'), 'volume': 100}\n",
      "{'symbol': 'AAPL', 'timestamp': datetime.datetime(2018, 11, 22, 10, 30, 5), 'order': 'sell', 'price': Decimal('177.01'), 'commission': Decimal('9.99'), 'volume': 20}\n"
     ]
    }
   ],
   "source": [
    "for k, v in decoded.items():\n",
    "    print(k)\n",
    "    for i in v:\n",
    "        print(vars(i))"
   ]
  },
  {
   "cell_type": "markdown",
   "metadata": {},
   "source": [
    "#### Exercise 3"
   ]
  },
  {
   "cell_type": "markdown",
   "metadata": {},
   "source": [
    "Do the same serialization and deserialization, but using `Marshmallow`."
   ]
  }
 ],
 "metadata": {
  "kernelspec": {
   "display_name": "Python 3",
   "language": "python",
   "name": "python3"
  },
  "language_info": {
   "codemirror_mode": {
    "name": "ipython",
    "version": 3
   },
   "file_extension": ".py",
   "mimetype": "text/x-python",
   "name": "python",
   "nbconvert_exporter": "python",
   "pygments_lexer": "ipython3",
   "version": "3.9.6"
  }
 },
 "nbformat": 4,
 "nbformat_minor": 2
}
