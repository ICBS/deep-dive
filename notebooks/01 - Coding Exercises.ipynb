{
 "cells": [
  {
   "cell_type": "markdown",
   "metadata": {},
   "source": [
    "### Coding Exercises"
   ]
  },
  {
   "cell_type": "markdown",
   "metadata": {},
   "source": [
    "Consider the following classes:"
   ]
  },
  {
   "cell_type": "code",
   "execution_count": 1,
   "metadata": {},
   "outputs": [],
   "source": [
    "class Stock:\n",
    "    def __init__(self, symbol, date, open_, high, low, close, volume):\n",
    "        self.symbol = symbol\n",
    "        self.date = date\n",
    "        self.open = open_\n",
    "        self.high = high\n",
    "        self.low = low\n",
    "        self.close = close\n",
    "        self.volume = volume\n",
    "        \n",
    "class Trade:\n",
    "    def __init__(self, symbol, timestamp, order, price, volume, commission):\n",
    "        self.symbol = symbol\n",
    "        self.timestamp = timestamp\n",
    "        self.order = order\n",
    "        self.price = price\n",
    "        self.commission = commission\n",
    "        self.volume = volume"
   ]
  },
  {
   "cell_type": "markdown",
   "metadata": {},
   "source": [
    "#### Exercise 1"
   ]
  },
  {
   "cell_type": "markdown",
   "metadata": {},
   "source": [
    "Given the above class, write a custom `JSONEncoder` class to **serialize** dictionaries that contain instances of these particular classes. Keep in mind that you will want to deserialize the data too - so you will need some technique to indicate the object type in your serialization."
   ]
  },
  {
   "cell_type": "markdown",
   "metadata": {},
   "source": [
    "For example you may have an object such as this one that needs to be serialized:"
   ]
  },
  {
   "cell_type": "code",
   "execution_count": 2,
   "metadata": {},
   "outputs": [],
   "source": [
    "from datetime import date, datetime\n",
    "from decimal import Decimal\n",
    "\n",
    "activity = {\n",
    "    \"quotes\": [\n",
    "        Stock('TSLA', date(2018, 11, 22), \n",
    "              Decimal('338.19'), Decimal('338.64'), Decimal('337.60'), Decimal('338.19'), 365_607),\n",
    "        Stock('AAPL', date(2018, 11, 22), \n",
    "              Decimal('176.66'), Decimal('177.25'), Decimal('176.64'), Decimal('176.78'), 3_699_184),\n",
    "        Stock('MSFT', date(2018, 11, 22), \n",
    "              Decimal('103.25'), Decimal('103.48'), Decimal('103.07'), Decimal('103.11'), 4_493_689)\n",
    "    ],\n",
    "    \n",
    "    \"trades\": [\n",
    "        Trade('TSLA', datetime(2018, 11, 22, 10, 5, 12), 'buy', Decimal('338.25'), 100, Decimal('9.99')),\n",
    "        Trade('AAPL', datetime(2018, 11, 22, 10, 30, 5), 'sell', Decimal('177.01'), 20, Decimal('9.99'))\n",
    "    ]\n",
    "}"
   ]
  },
  {
   "cell_type": "markdown",
   "metadata": {},
   "source": [
    "Hint: You can modify the classes if you need to."
   ]
  },
  {
   "cell_type": "code",
   "execution_count": 3,
   "metadata": {},
   "outputs": [],
   "source": [
    "import json"
   ]
  },
  {
   "cell_type": "code",
   "execution_count": 4,
   "metadata": {},
   "outputs": [],
   "source": [
    "class CustomEncoder(json.JSONEncoder):\n",
    "    def default(self, obj):\n",
    "        if isinstance(obj, Stock):\n",
    "            return {'_type': 'Stock',\n",
    "                    'symbol':obj.symbol, \n",
    "                    'date':obj.date,\n",
    "                    'open':obj.open,\n",
    "                    'high':obj.high,\n",
    "                    'low':obj.low,\n",
    "                    'close':obj.close,\n",
    "                    'volume':obj.volume}\n",
    "        if isinstance(obj, Trade):\n",
    "            return {'_type': 'Trade',\n",
    "                    'symbol':obj.symbol, \n",
    "                    'timestamp':obj.timestamp,\n",
    "                    'order':obj.order,\n",
    "                    'price':obj.price,\n",
    "                    'volume':obj.volume,\n",
    "                    'commission':obj.commission}\n",
    "        if isinstance(obj, date):\n",
    "            return obj.isoformat()\n",
    "        if isinstance(obj, datetime):\n",
    "            return obj.isoformat()\n",
    "        if isinstance(obj, Decimal):\n",
    "            return obj.to_eng_string()\n",
    "        return super().default(obj)"
   ]
  },
  {
   "cell_type": "code",
   "execution_count": 5,
   "metadata": {},
   "outputs": [
    {
     "name": "stdout",
     "output_type": "stream",
     "text": [
      "{\n",
      "  \"quotes\": [\n",
      "    {\n",
      "      \"_type\": \"Stock\",\n",
      "      \"symbol\": \"TSLA\",\n",
      "      \"date\": \"2018-11-22\",\n",
      "      \"open\": \"338.19\",\n",
      "      \"high\": \"338.64\",\n",
      "      \"low\": \"337.60\",\n",
      "      \"close\": \"338.19\",\n",
      "      \"volume\": 365607\n",
      "    },\n",
      "    {\n",
      "      \"_type\": \"Stock\",\n",
      "      \"symbol\": \"AAPL\",\n",
      "      \"date\": \"2018-11-22\",\n",
      "      \"open\": \"176.66\",\n",
      "      \"high\": \"177.25\",\n",
      "      \"low\": \"176.64\",\n",
      "      \"close\": \"176.78\",\n",
      "      \"volume\": 3699184\n",
      "    },\n",
      "    {\n",
      "      \"_type\": \"Stock\",\n",
      "      \"symbol\": \"MSFT\",\n",
      "      \"date\": \"2018-11-22\",\n",
      "      \"open\": \"103.25\",\n",
      "      \"high\": \"103.48\",\n",
      "      \"low\": \"103.07\",\n",
      "      \"close\": \"103.11\",\n",
      "      \"volume\": 4493689\n",
      "    }\n",
      "  ],\n",
      "  \"trades\": [\n",
      "    {\n",
      "      \"_type\": \"Trade\",\n",
      "      \"symbol\": \"TSLA\",\n",
      "      \"timestamp\": \"2018-11-22T10:05:12\",\n",
      "      \"order\": \"buy\",\n",
      "      \"price\": \"338.25\",\n",
      "      \"volume\": 100,\n",
      "      \"commission\": \"9.99\"\n",
      "    },\n",
      "    {\n",
      "      \"_type\": \"Trade\",\n",
      "      \"symbol\": \"AAPL\",\n",
      "      \"timestamp\": \"2018-11-22T10:30:05\",\n",
      "      \"order\": \"sell\",\n",
      "      \"price\": \"177.01\",\n",
      "      \"volume\": 20,\n",
      "      \"commission\": \"9.99\"\n",
      "    }\n",
      "  ]\n",
      "}\n"
     ]
    }
   ],
   "source": [
    "encoded = json.dumps(activity, cls=CustomEncoder, indent=2)\n",
    "print(encoded)"
   ]
  },
  {
   "cell_type": "markdown",
   "metadata": {},
   "source": [
    "#### Exercise 2"
   ]
  },
  {
   "cell_type": "markdown",
   "metadata": {},
   "source": [
    "Write code to reverse the serialization you just created. Write a custom decoder that can deserialize a JSON structure containing `Stock` and `Trade` objects. "
   ]
  },
  {
   "cell_type": "code",
   "execution_count": 6,
   "metadata": {},
   "outputs": [],
   "source": [
    "class CustomDecoder(json.JSONDecoder):\n",
    "    \n",
    "    def decode(self, arg):\n",
    "        obj = json.loads(arg)\n",
    "        return self.parse_obj(obj)\n",
    "        \n",
    "    def parse_obj(self, obj):\n",
    "        if isinstance(obj, dict):\n",
    "            if '_type' in obj:\n",
    "                if obj['_type'] == 'Stock':\n",
    "                    return Stock(obj['symbol'], \n",
    "                                 datetime.fromisoformat(obj['date']).date(), \n",
    "                                 Decimal(obj['open']), \n",
    "                                 Decimal(obj['high']), \n",
    "                                 Decimal(obj['low']), \n",
    "                                 Decimal(obj['close']), \n",
    "                                 obj['volume'])\n",
    "                if obj['_type'] == 'Trade':\n",
    "                    return Trade(obj['symbol'], \n",
    "                                 datetime.fromisoformat(obj['timestamp']), \n",
    "                                 obj['order'], \n",
    "                                 Decimal(obj['price']), \n",
    "                                 obj['volume'],\n",
    "                                 Decimal(obj['commission']))\n",
    "            for k, v in obj.items():\n",
    "                obj[k] = self.parse_obj(v)\n",
    "        \n",
    "        if isinstance(obj, list):\n",
    "            obj = [*map(self.parse_obj, obj)]\n",
    "        \n",
    "        return obj"
   ]
  },
  {
   "cell_type": "code",
   "execution_count": 7,
   "metadata": {},
   "outputs": [
    {
     "data": {
      "text/plain": [
       "{'quotes': [<__main__.Stock at 0x7f823504f970>,\n",
       "  <__main__.Stock at 0x7f823504ff10>,\n",
       "  <__main__.Stock at 0x7f823504faf0>],\n",
       " 'trades': [<__main__.Trade at 0x7f823504f9d0>,\n",
       "  <__main__.Trade at 0x7f823504fcd0>]}"
      ]
     },
     "execution_count": 7,
     "metadata": {},
     "output_type": "execute_result"
    }
   ],
   "source": [
    "decoded = json.loads(encoded, cls=CustomDecoder)\n",
    "decoded"
   ]
  },
  {
   "cell_type": "code",
   "execution_count": 8,
   "metadata": {},
   "outputs": [
    {
     "name": "stdout",
     "output_type": "stream",
     "text": [
      "TSLA <class 'str'> 2018-11-22 <class 'datetime.date'> 338.19 <class 'decimal.Decimal'> 338.64 <class 'decimal.Decimal'> 337.60 <class 'decimal.Decimal'> 338.19 <class 'decimal.Decimal'> 365607 <class 'int'>\n",
      "AAPL <class 'str'> 2018-11-22 <class 'datetime.date'> 176.66 <class 'decimal.Decimal'> 177.25 <class 'decimal.Decimal'> 176.64 <class 'decimal.Decimal'> 176.78 <class 'decimal.Decimal'> 3699184 <class 'int'>\n",
      "MSFT <class 'str'> 2018-11-22 <class 'datetime.date'> 103.25 <class 'decimal.Decimal'> 103.48 <class 'decimal.Decimal'> 103.07 <class 'decimal.Decimal'> 103.11 <class 'decimal.Decimal'> 4493689 <class 'int'>\n",
      "TSLA <class 'str'> 2018-11-22 10:05:12 <class 'datetime.datetime'> buy <class 'str'> 338.25 <class 'decimal.Decimal'> 100 <class 'int'> 9.99 <class 'decimal.Decimal'>\n",
      "AAPL <class 'str'> 2018-11-22 10:30:05 <class 'datetime.datetime'> sell <class 'str'> 177.01 <class 'decimal.Decimal'> 20 <class 'int'> 9.99 <class 'decimal.Decimal'>\n"
     ]
    }
   ],
   "source": [
    "for v in decoded['quotes']:\n",
    "    print(v.symbol, type(v.symbol), \n",
    "          v.date, type(v.date), \n",
    "          v.open, type(v.open), \n",
    "          v.high, type(v.high), \n",
    "          v.low, type(v.low), \n",
    "          v.close, type(v.close), \n",
    "          v.volume, type(v.volume))\n",
    "for v in decoded['trades']:\n",
    "    print(v.symbol, type(v.symbol), \n",
    "          v.timestamp, type(v.timestamp), \n",
    "          v.order, type(v.order), \n",
    "          v.price, type(v.price),\n",
    "          v.volume, type(v.volume),\n",
    "          v.commission, type(v.commission))"
   ]
  },
  {
   "cell_type": "markdown",
   "metadata": {},
   "source": [
    "#### Exercise 3"
   ]
  },
  {
   "cell_type": "markdown",
   "metadata": {},
   "source": [
    "Do the same serialization and deserialization, but using `Marshmallow`."
   ]
  }
 ],
 "metadata": {
  "kernelspec": {
   "display_name": "Python 3",
   "language": "python",
   "name": "python3"
  },
  "language_info": {
   "codemirror_mode": {
    "name": "ipython",
    "version": 3
   },
   "file_extension": ".py",
   "mimetype": "text/x-python",
   "name": "python",
   "nbconvert_exporter": "python",
   "pygments_lexer": "ipython3",
   "version": "3.9.6"
  }
 },
 "nbformat": 4,
 "nbformat_minor": 2
}
