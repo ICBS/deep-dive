{
 "cells": [
  {
   "cell_type": "code",
   "execution_count": 1,
   "id": "d5c45822",
   "metadata": {},
   "outputs": [],
   "source": [
    "import enum"
   ]
  },
  {
   "cell_type": "code",
   "execution_count": 2,
   "id": "28a56ae9",
   "metadata": {},
   "outputs": [],
   "source": [
    "GenericException = type('GenericException', (Exception,), {})\n",
    "Timeout = type('Timeout', (Exception,), {})"
   ]
  },
  {
   "cell_type": "code",
   "execution_count": 3,
   "id": "4b2b6cdf",
   "metadata": {},
   "outputs": [],
   "source": [
    "@enum.unique\n",
    "class AppException(enum.Enum):\n",
    "    \n",
    "    NotAnInteger = 200, ValueError, 'Value is not an integer'\n",
    "    Generic = 100, GenericException, 'Application exception.'\n",
    "    Timeout = 101, Timeout, 'Timeout connecting to resource.'\n",
    "    NotAList = 201, ValueError, 'Value must be a list.'\n",
    "    \n",
    "    def __new__(cls, code, exception, message):\n",
    "        self = object.__new__(cls)\n",
    "        self._value_ = code\n",
    "        self.message = message\n",
    "        self.exception = exception\n",
    "        return self\n",
    "        \n",
    "    @property\n",
    "    def code(self):\n",
    "        return self.value\n",
    "    \n",
    "    def throw(self, message=None):\n",
    "        raise self.exception(f'{self.code} - {message or self.message}')"
   ]
  },
  {
   "cell_type": "code",
   "execution_count": 4,
   "id": "ed7f7492",
   "metadata": {},
   "outputs": [
    {
     "data": {
      "text/plain": [
       "(101, 'Timeout connecting to resource.', __main__.Timeout)"
      ]
     },
     "execution_count": 4,
     "metadata": {},
     "output_type": "execute_result"
    }
   ],
   "source": [
    "AppException.Timeout.value, AppException.Timeout.message, AppException.Timeout.exception"
   ]
  },
  {
   "cell_type": "code",
   "execution_count": 5,
   "id": "77cd4f21",
   "metadata": {},
   "outputs": [
    {
     "name": "stdout",
     "output_type": "stream",
     "text": [
      "101 - Timeout connecting to resource.\n"
     ]
    }
   ],
   "source": [
    "try:\n",
    "    raise AppException.Timeout.exception(f'{AppException.Timeout.value} - {AppException.Timeout.message}')\n",
    "except Timeout as ex:\n",
    "    print(ex)"
   ]
  },
  {
   "cell_type": "code",
   "execution_count": 6,
   "id": "f91f371d",
   "metadata": {},
   "outputs": [
    {
     "name": "stdout",
     "output_type": "stream",
     "text": [
      "200 - Value is not an integer\n"
     ]
    }
   ],
   "source": [
    "try:\n",
    "    AppException.NotAnInteger.throw()\n",
    "except ValueError as ex:\n",
    "    print(ex)"
   ]
  },
  {
   "cell_type": "code",
   "execution_count": 7,
   "id": "fbd45d90",
   "metadata": {},
   "outputs": [
    {
     "data": {
      "text/plain": [
       "(201, 'Value must be a list.')"
      ]
     },
     "execution_count": 7,
     "metadata": {},
     "output_type": "execute_result"
    }
   ],
   "source": [
    "AppException.NotAList.code, AppException.NotAList.message"
   ]
  },
  {
   "cell_type": "code",
   "execution_count": 8,
   "id": "ed045570",
   "metadata": {},
   "outputs": [
    {
     "data": {
      "text/plain": [
       "(<AppException.NotAList: 201>, <AppException.NotAList: 201>)"
      ]
     },
     "execution_count": 8,
     "metadata": {},
     "output_type": "execute_result"
    }
   ],
   "source": [
    "AppException(201), AppException['NotAList']"
   ]
  },
  {
   "cell_type": "code",
   "execution_count": 9,
   "id": "4be9e61e",
   "metadata": {},
   "outputs": [
    {
     "name": "stdout",
     "output_type": "stream",
     "text": [
      "101 - Timeout connecting to resource.\n"
     ]
    }
   ],
   "source": [
    "try:\n",
    "    AppException.Timeout.throw()\n",
    "except Exception as ex:\n",
    "    print(ex)"
   ]
  },
  {
   "cell_type": "code",
   "execution_count": 10,
   "id": "51584ead",
   "metadata": {},
   "outputs": [
    {
     "name": "stdout",
     "output_type": "stream",
     "text": [
      "101 - Timeout connecting to database.\n"
     ]
    }
   ],
   "source": [
    "try:\n",
    "    AppException.Timeout.throw('Timeout connecting to database.')\n",
    "except Exception as ex:\n",
    "    print(ex)"
   ]
  },
  {
   "cell_type": "code",
   "execution_count": 11,
   "id": "6a6d6e36",
   "metadata": {},
   "outputs": [
    {
     "data": {
      "text/plain": [
       "[<AppException.NotAnInteger: 200>,\n",
       " <AppException.Generic: 100>,\n",
       " <AppException.Timeout: 101>,\n",
       " <AppException.NotAList: 201>]"
      ]
     },
     "execution_count": 11,
     "metadata": {},
     "output_type": "execute_result"
    }
   ],
   "source": [
    "list(AppException)"
   ]
  },
  {
   "cell_type": "code",
   "execution_count": 12,
   "id": "2e7736a6",
   "metadata": {},
   "outputs": [
    {
     "data": {
      "text/plain": [
       "[('NotAnInteger', 200, 'Value is not an integer'),\n",
       " ('Generic', 100, 'Application exception.'),\n",
       " ('Timeout', 101, 'Timeout connecting to resource.'),\n",
       " ('NotAList', 201, 'Value must be a list.')]"
      ]
     },
     "execution_count": 12,
     "metadata": {},
     "output_type": "execute_result"
    }
   ],
   "source": [
    "[(ex.name, ex.code, ex.message) for ex in AppException]"
   ]
  }
 ],
 "metadata": {
  "kernelspec": {
   "display_name": "Python 3",
   "language": "python",
   "name": "python3"
  },
  "language_info": {
   "codemirror_mode": {
    "name": "ipython",
    "version": 3
   },
   "file_extension": ".py",
   "mimetype": "text/x-python",
   "name": "python",
   "nbconvert_exporter": "python",
   "pygments_lexer": "ipython3",
   "version": "3.9.6"
  }
 },
 "nbformat": 4,
 "nbformat_minor": 5
}
