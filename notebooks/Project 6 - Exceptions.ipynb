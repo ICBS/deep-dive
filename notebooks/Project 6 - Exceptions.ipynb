{
 "cells": [
  {
   "cell_type": "markdown",
   "metadata": {},
   "source": [
    "### Project 6 - Exceptions"
   ]
  },
  {
   "cell_type": "markdown",
   "metadata": {},
   "source": [
    "Suppose we have a Widget online sales application and we are writing the backend for it. We want a base `WidgetException` class that we will use as the base class for all our custom exceptions we raise from our Widget application."
   ]
  },
  {
   "cell_type": "markdown",
   "metadata": {},
   "source": [
    "Furthermore we have determined that we will need the following categories of exceptions:"
   ]
  },
  {
   "cell_type": "markdown",
   "metadata": {},
   "source": [
    "```\n",
    "1. Supplier exceptions\n",
    "    a. Not manufactured anymore\n",
    "    b. Production delayed\n",
    "    c. Shipping delayed\n",
    "    \n",
    "2. Checkout exceptions\n",
    "    a. Inventory type exceptions\n",
    "        - out of stock\n",
    "    b. Pricing exceptions\n",
    "        - invalid coupon code\n",
    "        - cannot stack coupons\n",
    "```"
   ]
  },
  {
   "cell_type": "markdown",
   "metadata": {},
   "source": [
    "Write an exception class hierarchy to capture this. In addition, we would like to implement the following functionality:\n",
    "* implement separate internal error message and user error message\n",
    "* implement an http status code associated to each exception type (keep it simple, use a 500 (server error) error for everything except invalid coupon code, and cannot stack coupons, these can be 400 (bad request)\n",
    "* implement a logging function that can be called to log the exception details, time it occurred, etc.\n",
    "* implement a function that can be called to produce a json string containing the exception details you want to display to your user (include http status code (e.g. 400), the user error message, etc)"
   ]
  },
  {
   "cell_type": "markdown",
   "metadata": {},
   "source": [
    "##### Bonus"
   ]
  },
  {
   "cell_type": "markdown",
   "metadata": {},
   "source": [
    "Log the traceback too - you'll have to do a bit of research for that! \n",
    "\n",
    "I'm going to use the `TracebackException` class in the `traceback` module:\n",
    "\n",
    "https://docs.python.org/3/library/traceback.html#tracebackexception-objects"
   ]
  },
  {
   "cell_type": "markdown",
   "metadata": {},
   "source": [
    "In particular, look at the class method `from_exception` (and remember that inside your exception class, the exception will be `self`!) and the `format` instance method. That method returns a generator, so you'll need to `list` it to print out everything in that traceback."
   ]
  },
  {
   "cell_type": "markdown",
   "metadata": {},
   "source": [
    "Good luck!"
   ]
  },
  {
   "cell_type": "code",
   "execution_count": 1,
   "metadata": {},
   "outputs": [],
   "source": [
    "from http import HTTPStatus\n",
    "import json, datetime, traceback"
   ]
  },
  {
   "cell_type": "code",
   "execution_count": 2,
   "metadata": {},
   "outputs": [],
   "source": [
    "class WidgetException(Exception):\n",
    "    internal_message = 'Widget Exception'\n",
    "    user_messsage = 'Internal error.'\n",
    "    http_status = HTTPStatus.INTERNAL_SERVER_ERROR\n",
    "    \n",
    "    def __init__(self, *args, user_message=None):\n",
    "        if args:\n",
    "            self.internal_message = args[0]\n",
    "            super().__init__(*args)\n",
    "        else:\n",
    "            super().__init__(self.internal_message)\n",
    "        self.user_message = user_message if user_message is not None else self.internal_message\n",
    "    \n",
    "    def log_exception(self):\n",
    "        exception = {'type': type(self).__name__,\n",
    "                     'message': self.internal_message,\n",
    "                     'args': self.args[1:],\n",
    "                     'traceback': list(self.traceback)}\n",
    "        print(f'Exception: {datetime.datetime.utcnow().isoformat()}: {exception}')\n",
    "    \n",
    "    def to_json(self):\n",
    "        return json.dumps({'code': self.http_status.value, \n",
    "                           'message': f'{self.http_status.phrase}: ' + self.user_message, \n",
    "                           'category': type(self).__name__,\n",
    "                           'time_utc': datetime.datetime.utcnow().isoformat()})\n",
    "    \n",
    "    @property\n",
    "    def traceback(self):\n",
    "        return traceback.TracebackException.from_exception(self).format()"
   ]
  },
  {
   "cell_type": "code",
   "execution_count": 3,
   "metadata": {},
   "outputs": [],
   "source": [
    "class SupplierException(WidgetException):\n",
    "    internal_message = 'Supplier Exception'\n",
    "    \n",
    "class NotManufacturedException(SupplierException):\n",
    "    internal_message = 'Not Manufactured Exception'\n",
    "\n",
    "class ProductionDelayedException(SupplierException):\n",
    "    internal_message = 'Production Delayed Exception'\n",
    "\n",
    "class ShippingDelayedException(SupplierException):\n",
    "    internal_message = 'Shipping Delayed Exception'\n",
    "\n",
    "class CheckoutException(WidgetException):\n",
    "    internal_message = 'Checkout Exception'\n",
    "\n",
    "class InventoryException(CheckoutException):\n",
    "    internal_message = 'Inventory Exception'\n",
    "\n",
    "class OutOfStockException(InventoryException):\n",
    "    internal_message = 'Out of Stock Exception'\n",
    "\n",
    "class PricingException(CheckoutException):\n",
    "    internal_message = 'Pricing Exception'\n",
    "    \n",
    "class InvalidCouponCodeException(PricingException):\n",
    "    internal_message = 'Invalid Coupon Code Exception'\n",
    "    http_status = HTTPStatus.BAD_REQUEST\n",
    "    \n",
    "class CannotStackCouponException(PricingException):\n",
    "    internal_message = 'cannot stack coupons'\n",
    "    http_status = HTTPStatus.BAD_REQUEST"
   ]
  },
  {
   "cell_type": "code",
   "execution_count": 4,
   "metadata": {},
   "outputs": [
    {
     "name": "stdout",
     "output_type": "stream",
     "text": [
      "Exception: 2023-05-21T07:32:04.574989: {'type': 'WidgetException', 'message': 'some custom message', 'args': (10, 100), 'traceback': [\"WidgetException: ('some custom message', 10, 100)\\n\"]}\n"
     ]
    }
   ],
   "source": [
    "ex1 = WidgetException('some custom message', 10, 100)\n",
    "ex2 = WidgetException(user_message='A custom user message.')\n",
    "ex1.log_exception()"
   ]
  },
  {
   "cell_type": "code",
   "execution_count": 5,
   "metadata": {
    "scrolled": true
   },
   "outputs": [
    {
     "name": "stdout",
     "output_type": "stream",
     "text": [
      "Exception: 2023-05-21T07:32:04.629808: {'type': 'WidgetException', 'message': 'Widget Exception', 'args': (), 'traceback': ['WidgetException: Widget Exception\\n']}\n"
     ]
    }
   ],
   "source": [
    "ex2.log_exception()"
   ]
  },
  {
   "cell_type": "code",
   "execution_count": 6,
   "metadata": {},
   "outputs": [
    {
     "name": "stdout",
     "output_type": "stream",
     "text": [
      "Exception: 2023-05-21T07:32:04.672561: {'type': 'CannotStackCouponException', 'message': 'cannot stack coupons', 'args': (), 'traceback': ['Traceback (most recent call last):\\n', '  File \"<ipython-input-6-190053311f97>\", line 2, in <module>\\n    raise CannotStackCouponException()\\n', 'CannotStackCouponException: cannot stack coupons\\n']}\n"
     ]
    },
    {
     "ename": "CannotStackCouponException",
     "evalue": "cannot stack coupons",
     "output_type": "error",
     "traceback": [
      "\u001b[0;31m---------------------------------------------------------------------------\u001b[0m",
      "\u001b[0;31mCannotStackCouponException\u001b[0m                Traceback (most recent call last)",
      "\u001b[0;32m<ipython-input-6-190053311f97>\u001b[0m in \u001b[0;36m<module>\u001b[0;34m\u001b[0m\n\u001b[1;32m      1\u001b[0m \u001b[0;32mtry\u001b[0m\u001b[0;34m:\u001b[0m\u001b[0;34m\u001b[0m\u001b[0;34m\u001b[0m\u001b[0m\n\u001b[0;32m----> 2\u001b[0;31m     \u001b[0;32mraise\u001b[0m \u001b[0mCannotStackCouponException\u001b[0m\u001b[0;34m(\u001b[0m\u001b[0;34m)\u001b[0m\u001b[0;34m\u001b[0m\u001b[0;34m\u001b[0m\u001b[0m\n\u001b[0m\u001b[1;32m      3\u001b[0m \u001b[0;32mexcept\u001b[0m \u001b[0mWidgetException\u001b[0m \u001b[0;32mas\u001b[0m \u001b[0mex\u001b[0m\u001b[0;34m:\u001b[0m\u001b[0;34m\u001b[0m\u001b[0;34m\u001b[0m\u001b[0m\n\u001b[1;32m      4\u001b[0m     \u001b[0mex\u001b[0m\u001b[0;34m.\u001b[0m\u001b[0mlog_exception\u001b[0m\u001b[0;34m(\u001b[0m\u001b[0;34m)\u001b[0m\u001b[0;34m\u001b[0m\u001b[0;34m\u001b[0m\u001b[0m\n\u001b[1;32m      5\u001b[0m     \u001b[0;32mraise\u001b[0m\u001b[0;34m\u001b[0m\u001b[0;34m\u001b[0m\u001b[0m\n",
      "\u001b[0;31mCannotStackCouponException\u001b[0m: cannot stack coupons"
     ]
    }
   ],
   "source": [
    "try:\n",
    "    raise CannotStackCouponException()\n",
    "except WidgetException as ex:\n",
    "    ex.log_exception()\n",
    "    raise"
   ]
  },
  {
   "cell_type": "code",
   "execution_count": 7,
   "metadata": {},
   "outputs": [
    {
     "name": "stdout",
     "output_type": "stream",
     "text": [
      "Exception: 2023-05-21T07:32:16.167374: {'type': 'WidgetException', 'message': 'same custom message for log and user', 'args': (), 'traceback': ['WidgetException: same custom message for log and user\\n']}\n"
     ]
    }
   ],
   "source": [
    "e = WidgetException('same custom message for log and user')\n",
    "e.log_exception()"
   ]
  },
  {
   "cell_type": "code",
   "execution_count": 8,
   "metadata": {},
   "outputs": [
    {
     "data": {
      "text/plain": [
       "{'code': 500,\n",
       " 'message': 'Internal Server Error: same custom message for log and user',\n",
       " 'category': 'WidgetException',\n",
       " 'time_utc': '2023-05-21T07:32:16.174684'}"
      ]
     },
     "execution_count": 8,
     "metadata": {},
     "output_type": "execute_result"
    }
   ],
   "source": [
    "json.loads(e.to_json())"
   ]
  },
  {
   "cell_type": "code",
   "execution_count": 9,
   "metadata": {},
   "outputs": [
    {
     "name": "stdout",
     "output_type": "stream",
     "text": [
      "Exception: 2023-05-21T07:32:16.230101: {'type': 'WidgetException', 'message': 'custom internal message', 'args': (), 'traceback': ['WidgetException: custom internal message\\n']}\n"
     ]
    }
   ],
   "source": [
    "e = WidgetException('custom internal message', user_message='custom user message')\n",
    "e.log_exception()"
   ]
  },
  {
   "cell_type": "code",
   "execution_count": 10,
   "metadata": {},
   "outputs": [
    {
     "data": {
      "text/plain": [
       "'{\"code\": 500, \"message\": \"Internal Server Error: custom user message\", \"category\": \"WidgetException\", \"time_utc\": \"2023-05-21T07:32:16.242028\"}'"
      ]
     },
     "execution_count": 10,
     "metadata": {},
     "output_type": "execute_result"
    }
   ],
   "source": [
    "e.to_json()"
   ]
  },
  {
   "cell_type": "code",
   "execution_count": 11,
   "metadata": {},
   "outputs": [
    {
     "name": "stdout",
     "output_type": "stream",
     "text": [
      "<traceback object at 0x7f88684c6f40>\n"
     ]
    }
   ],
   "source": [
    "try:\n",
    "    raise WidgetException('custom error message')\n",
    "except WidgetException as ex:\n",
    "    print(repr(ex.__traceback__))"
   ]
  },
  {
   "cell_type": "code",
   "execution_count": 12,
   "metadata": {},
   "outputs": [
    {
     "name": "stdout",
     "output_type": "stream",
     "text": [
      "['Traceback (most recent call last):\\n', '  File \"<ipython-input-12-2a9225338511>\", line 2, in <module>\\n    raise ValueError\\n', 'ValueError\\n', '\\nDuring handling of the above exception, another exception occurred:\\n\\n', 'Traceback (most recent call last):\\n', '  File \"<ipython-input-12-2a9225338511>\", line 5, in <module>\\n    raise WidgetException(\\'custom error message\\')\\n', 'WidgetException: custom error message\\n']\n"
     ]
    }
   ],
   "source": [
    "try:\n",
    "    raise ValueError\n",
    "except ValueError:\n",
    "    try:\n",
    "        raise WidgetException('custom error message')\n",
    "    except WidgetException as ex:\n",
    "        print(list(traceback.TracebackException.from_exception(ex).format()))"
   ]
  },
  {
   "cell_type": "code",
   "execution_count": 13,
   "metadata": {},
   "outputs": [
    {
     "name": "stdout",
     "output_type": "stream",
     "text": [
      "Exception: 2023-05-21T07:32:16.346073: {'type': 'WidgetException', 'message': 'custom internal message', 'args': (), 'traceback': ['Traceback (most recent call last):\\n', '  File \"<ipython-input-13-5f5ce724ebb7>\", line 2, in <module>\\n    raise WidgetException(\\'custom internal message\\', user_message=\\'custom user message\\')\\n', 'WidgetException: custom internal message\\n']}\n",
      "------------\n",
      "{\"code\": 500, \"message\": \"Internal Server Error: custom user message\", \"category\": \"WidgetException\", \"time_utc\": \"2023-05-21T07:32:16.346189\"}\n"
     ]
    }
   ],
   "source": [
    "try:\n",
    "    raise WidgetException('custom internal message', user_message='custom user message')\n",
    "except WidgetException as ex:\n",
    "    ex.log_exception()\n",
    "    print('------------')\n",
    "    print(ex.to_json())"
   ]
  },
  {
   "cell_type": "code",
   "execution_count": 14,
   "metadata": {},
   "outputs": [
    {
     "name": "stdout",
     "output_type": "stream",
     "text": [
      "Exception: 2023-05-21T07:32:16.359730: {'type': 'InvalidCouponCodeException', 'message': 'User tried to use an old coupon', 'args': (), 'traceback': ['InvalidCouponCodeException: User tried to use an old coupon\\n']}\n"
     ]
    }
   ],
   "source": [
    "e = InvalidCouponCodeException('User tried to use an old coupon', user_message='Sorry. This coupon has expired.')\n",
    "e.log_exception()"
   ]
  },
  {
   "cell_type": "code",
   "execution_count": 15,
   "metadata": {},
   "outputs": [
    {
     "data": {
      "text/plain": [
       "'{\"code\": 400, \"message\": \"Bad Request: Sorry. This coupon has expired.\", \"category\": \"InvalidCouponCodeException\", \"time_utc\": \"2023-05-21T07:32:16.370365\"}'"
      ]
     },
     "execution_count": 15,
     "metadata": {},
     "output_type": "execute_result"
    }
   ],
   "source": [
    "e.to_json()"
   ]
  },
  {
   "cell_type": "code",
   "execution_count": 16,
   "metadata": {},
   "outputs": [
    {
     "name": "stdout",
     "output_type": "stream",
     "text": [
      "Exception: 2023-05-21T07:32:16.422647: {'type': 'InvalidCouponCodeException', 'message': 'User tried to use an old coupon', 'args': (), 'traceback': ['Traceback (most recent call last):\\n', '  File \"<ipython-input-16-a8d1ab2e776f>\", line 2, in <module>\\n    raise ValueError\\n', 'ValueError\\n', '\\nDuring handling of the above exception, another exception occurred:\\n\\n', 'Traceback (most recent call last):\\n', '  File \"<ipython-input-16-a8d1ab2e776f>\", line 5, in <module>\\n    raise InvalidCouponCodeException(\\n', 'InvalidCouponCodeException: User tried to use an old coupon\\n']}\n",
      "------------\n",
      "{\"code\": 400, \"message\": \"Bad Request: Sorry. This coupon has expired.\", \"category\": \"InvalidCouponCodeException\", \"time_utc\": \"2023-05-21T07:32:16.423483\"}\n",
      "------------\n",
      "Traceback (most recent call last):\n",
      "  File \"<ipython-input-16-a8d1ab2e776f>\", line 2, in <module>\n",
      "    raise ValueError\n",
      "ValueError\n",
      "\n",
      "During handling of the above exception, another exception occurred:\n",
      "\n",
      "Traceback (most recent call last):\n",
      "  File \"<ipython-input-16-a8d1ab2e776f>\", line 5, in <module>\n",
      "    raise InvalidCouponCodeException(\n",
      "InvalidCouponCodeException: User tried to use an old coupon\n",
      "\n"
     ]
    }
   ],
   "source": [
    "try:\n",
    "    raise ValueError\n",
    "except ValueError:\n",
    "    try:\n",
    "        raise InvalidCouponCodeException(\n",
    "            'User tried to use an old coupon', user_message='Sorry. This coupon has expired.'\n",
    "        )\n",
    "    except InvalidCouponCodeException as ex:\n",
    "        ex.log_exception()\n",
    "        print('------------')\n",
    "        print(ex.to_json())\n",
    "        print('------------')\n",
    "        print(''.join(ex.traceback))"
   ]
  }
 ],
 "metadata": {
  "kernelspec": {
   "display_name": "Python 3",
   "language": "python",
   "name": "python3"
  },
  "language_info": {
   "codemirror_mode": {
    "name": "ipython",
    "version": 3
   },
   "file_extension": ".py",
   "mimetype": "text/x-python",
   "name": "python",
   "nbconvert_exporter": "python",
   "pygments_lexer": "ipython3",
   "version": "3.9.6"
  }
 },
 "nbformat": 4,
 "nbformat_minor": 2
}
